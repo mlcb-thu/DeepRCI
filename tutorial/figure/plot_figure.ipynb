{
 "cells": [
  {
   "cell_type": "code",
   "execution_count": 1,
   "metadata": {},
   "outputs": [],
   "source": [
    "from matplotlib import pyplot as plt\n",
    "import seaborn as sns\n",
    "import pandas as pd\n",
    "import numpy as np\n",
    "import pickle as pkl\n",
    "from sklearn.metrics import precision_recall_curve, accuracy_score,f1_score, precision_score, roc_auc_score, roc_curve, recall_score,average_precision_score"
   ]
  },
  {
   "cell_type": "markdown",
   "metadata": {},
   "source": [
    "# Figure 2a"
   ]
  },
  {
   "cell_type": "code",
   "execution_count": 2,
   "metadata": {
    "scrolled": true
   },
   "outputs": [
    {
     "data": {
      "text/plain": [
       "(array([0.5 , 0.55, 0.6 , 0.65, 0.7 , 0.75, 0.8 , 0.85, 0.9 , 0.95]),\n",
       " [Text(0, 0.0, '0.0'),\n",
       "  Text(0, 0.2, '0.2'),\n",
       "  Text(0, 0.4, '0.4'),\n",
       "  Text(0, 0.6000000000000001, '0.6'),\n",
       "  Text(0, 0.8, '0.8'),\n",
       "  Text(0, 1.0, '1.0'),\n",
       "  Text(0, 0, ''),\n",
       "  Text(0, 0, ''),\n",
       "  Text(0, 0, ''),\n",
       "  Text(0, 0, '')])"
      ]
     },
     "execution_count": 2,
     "metadata": {},
     "output_type": "execute_result"
    },
    {
     "data": {
      "image/png": "[encoded data removed]",
      "text/plain": [
       "<Figure size 531.75x432 with 1 Axes>"
      ]
     },
     "metadata": {
      "needs_background": "light"
     },
     "output_type": "display_data"
    }
   ],
   "source": [
    "figure2a = pkl.load(open('result/figure2a.bin','rb'))\n",
    "m= ['Accuracy','Accuracy','Accuracy','F1-score','F1-score','F1-score', 'AUROC','AUROC','AUROC','AUPRC','AUPRC','AUPRC',]\n",
    "v = [0.83,0.815, 0.772,\\\n",
    "     0.8128, 0.808,0.711656,\\\n",
    "     0.906,0.88, 0.902,\\\n",
    "     0.917, 0.885, 0.9065,]\n",
    "data = {\n",
    "    'metrics':m,\n",
    "    'value':v,\n",
    "    'model':['DeepRCI-seq','DeepConv','TriplexFPP', 'DeepRCI-seq','DeepConv','TriplexFPP','DeepRCI-seq','DeepConv','TriplexFPP','DeepRCI-seq','DeepConv','TriplexFPP']\n",
    "}\n",
    "data = pd.DataFrame(data)\n",
    "data.head()\n",
    "\n",
    "g = sns.catplot(\n",
    "    data=data, kind=\"bar\",\n",
    "    x=\"metrics\", y=\"value\", hue=\"model\",\n",
    "    ci=\"sd\", alpha=.6, height=6\n",
    ")\n",
    "g.despine(left=True)\n",
    "g.set_axis_labels(\"\", \"value\",fontsize=15)\n",
    "g.legend.set_title(\"\")\n",
    "g.set(ylim=(0.5, 0.95))\n",
    "plt.xticks(fontsize=13)\n",
    "plt.yticks(fontsize=13)\n",
    "#g.savefig('result/baseline_1.pdf')\n",
    "#g.savefig('result/baseline_1.png')"
   ]
  },
  {
   "cell_type": "markdown",
   "metadata": {},
   "source": [
    "# Figure 2b"
   ]
  },
  {
   "cell_type": "code",
   "execution_count": 3,
   "metadata": {},
   "outputs": [
    {
     "data": {
      "text/plain": [
       "(array([0.5 , 0.55, 0.6 , 0.65, 0.7 , 0.75, 0.8 , 0.85, 0.9 , 0.95]),\n",
       " [Text(0, 0.0, '0.0'),\n",
       "  Text(0, 0.2, '0.2'),\n",
       "  Text(0, 0.4, '0.4'),\n",
       "  Text(0, 0.6000000000000001, '0.6'),\n",
       "  Text(0, 0.8, '0.8'),\n",
       "  Text(0, 1.0, '1.0'),\n",
       "  Text(0, 0, ''),\n",
       "  Text(0, 0, ''),\n",
       "  Text(0, 0, ''),\n",
       "  Text(0, 0, '')])"
      ]
     },
     "execution_count": 3,
     "metadata": {},
     "output_type": "execute_result"
    },
    {
     "data": {
      "image/png": "[encoded data removed]",
      "text/plain": [
       "<Figure size 541.125x432 with 1 Axes>"
      ]
     },
     "metadata": {
      "needs_background": "light"
     },
     "output_type": "display_data"
    }
   ],
   "source": [
    "[baseline_pred, baseline_test] = pkl.load(open('result/baseline_seq.bin','rb'))\n",
    "[deepCRI_only_seq_pred, deepCRI_only_seq_test] = pkl.load(open('result/deepCRI_only_seq.bin','rb'))\n",
    "[deepCRI_seq_atac_pred, deepCRI_seq_atac_test] = pkl.load(open('result/deepCRI_seq_atac.bin','rb'))\n",
    "[deepCRI_seq_all_pred, deepCRI_seq_all_test] = pkl.load(open('result/deepCRI_seq_all.bin','rb'))\n",
    "\n",
    "def get_metrics(preds, labels):\n",
    "    acc = accuracy_score(labels, preds>0.5)\n",
    "    sn = precision_score(labels, preds>0.5)\n",
    "    sp = recall_score(labels, preds>0.5)\n",
    "    auroc = roc_auc_score(labels, preds)\n",
    "    auprc = average_precision_score(labels, preds)\n",
    "    f1 = f1_score(labels, preds>0.5)\n",
    "    return [acc, f1, auroc, auprc]\n",
    "\n",
    "result1 = get_metrics(deepCRI_only_seq_pred, deepCRI_only_seq_test)\n",
    "result2 = get_metrics(deepCRI_seq_atac_pred, deepCRI_seq_atac_test)\n",
    "result3 = get_metrics(deepCRI_seq_all_pred, deepCRI_seq_all_test)\n",
    "result4 = get_metrics(baseline_pred, baseline_test)\n",
    "data = {'model':['Triplex-FPP','DeepRCI-seq','DeepRCI-actac','DeepRCI']*4,\n",
    "        \"value\":np.vstack([result4, result1, result2, result3]).T.reshape(-1),\n",
    "        'metrics':['Accuracy',]*4+['F1-score',]*4 + ['AUROC',]*4+['AUPRC',]*4\n",
    "       }\n",
    "data = pd.DataFrame(data)\n",
    "#data = pd.DataFrame(data)\n",
    "data.head()\n",
    "\n",
    "g = sns.catplot(\n",
    "    data=data, kind=\"bar\",\n",
    "    x=\"metrics\", y=\"value\", hue=\"model\",\n",
    "    ci=\"sd\", alpha=.6, height=6\n",
    ")\n",
    "g.despine(left=True)\n",
    "g.set_axis_labels(\"\", \"value\",fontsize=15)\n",
    "g.legend.set_title(\"\")\n",
    "g.set(ylim=(0.5, 0.95))\n",
    "plt.xticks(fontsize=13)\n",
    "plt.yticks(fontsize=13)\n",
    "#g.savefig('result/second_dataset.pdf')"
   ]
  },
  {
   "cell_type": "markdown",
   "metadata": {},
   "source": [
    "# Figure 3a"
   ]
  },
  {
   "cell_type": "code",
   "execution_count": 4,
   "metadata": {
    "scrolled": true
   },
   "outputs": [
    {
     "data": {
      "text/plain": [
       "<seaborn.axisgrid.FacetGrid at 0x7f3b38f22898>"
      ]
     },
     "execution_count": 4,
     "metadata": {},
     "output_type": "execute_result"
    },
    {
     "data": {
      "image/png": "[encoded data removed]",
      "text/plain": [
       "<Figure size 475x360 with 1 Axes>"
      ]
     },
     "metadata": {
      "needs_background": "light"
     },
     "output_type": "display_data"
    }
   ],
   "source": [
    "# Bayesian\n",
    "x = pkl.load(open('result/figure3a_bayesian_balance.bin','rb'))\n",
    "y = pkl.load(open('result/figure3a_bayesian_balance_y.bin','rb'))\n",
    "# simple\n",
    "\n",
    "data = {}\n",
    "\n",
    "data['value'] = list(x[:,-1]) + list(y[:,-1]) + list(x[:,-2]) + list(y[:,-2])+ list(x[:,-3]) + list(y[:,-3])+ list(x[:,-4]) + list(y[:,-4])\n",
    "data[''] = ['DeepRCI',]*len(x[:,-1]) + ['DeepRCI-simple',]*len(y[:,-1]) + ['DeepRCI',]*len(x[:,-1]) + ['DeepRCI-simple',]*len(y[:,-1]) + ['DeepRCI',]*len(x[:,-1]) + ['DeepRCI-simple',]*len(y[:,-1]) + ['DeepRCI',]*len(x[:,-1]) + ['DeepRCI-simple',]*len(y[:,-1])\n",
    "data['metrics'] = ['F1-score',] * (len(x[:,-1])*2) + ['AUPRC',] * (len(x[:,-1])*2) + ['AUROC',] * (len(x[:,-1])*2) + ['Accuracy',] * (len(x[:,-1])*2)\n",
    "data = pd.DataFrame(data)\n",
    "sns.color_palette(\"husl\", 9)\n",
    "g = sns.catplot(\n",
    "    data=data, kind=\"bar\",\n",
    "    x=\"metrics\", y=\"value\", hue=\"\",\n",
    "    palette='pastel'\n",
    ")\n",
    "g.set_axis_labels(\"\", \"value\",fontsize=15)\n",
    "plt.xticks(fontsize=12)\n",
    "plt.yticks(fontsize=12)\n",
    "g.set(xlabel=None)\n",
    "g.despine(left=True)\n",
    "g.set(ylim=(0.5,0.95))\n",
    "#g.savefig('result/Bayesian_setting.pdf')\n",
    "#g.savefig('result/Bayesian_setting.png')"
   ]
  },
  {
   "cell_type": "markdown",
   "metadata": {},
   "source": [
    "# Figure 3b"
   ]
  },
  {
   "cell_type": "code",
   "execution_count": 5,
   "metadata": {},
   "outputs": [
    {
     "data": {
      "text/plain": [
       "<seaborn.axisgrid.FacetGrid at 0x7f3b38e4d518>"
      ]
     },
     "execution_count": 5,
     "metadata": {},
     "output_type": "execute_result"
    },
    {
     "data": {
      "image/png": "[encoded data removed]",
      "text/plain": [
       "<Figure size 475x360 with 1 Axes>"
      ]
     },
     "metadata": {
      "needs_background": "light"
     },
     "output_type": "display_data"
    }
   ],
   "source": [
    "y = np.array(y)\n",
    "\n",
    "\n",
    "x = pkl.load(open('result/figure3a_bayesian_imbalance.bin','rb'))\n",
    "y = pkl.load(open('result/figure3a_bayesian_imbalance_y.bin','rb'))\n",
    "\n",
    "data = {}\n",
    "\n",
    "data['value'] = list(x[:,-1]) + list(y[:,-1]) + list(x[:,-2]) + list(y[:,-2])+ list(x[:,-3]) + list(y[:,-3])+ list(x[:,-4]) + list(y[:,-4])\n",
    "data[''] = ['DeepRCI',]*len(x[:,-1]) + ['DeepRCI-simple',]*len(y[:,-1]) + ['DeepRCI',]*len(x[:,-1]) + ['DeepRCI-simple',]*len(y[:,-1]) + ['DeepRCI',]*len(x[:,-1]) + ['DeepRCI-simple',]*len(y[:,-1]) + ['DeepRCI',]*len(x[:,-1]) + ['DeepRCI-simple',]*len(y[:,-1])\n",
    "data['metrics'] = ['F1-score',] * (len(x[:,-1])*2) + ['AUPRC',] * (len(x[:,-1])*2) + ['AUROC',] * (len(x[:,-1])*2) + ['Accuracy',] * (len(x[:,-1])*2)\n",
    "\n",
    "data = pd.DataFrame(data)\n",
    "\n",
    "sns.color_palette(\"husl\", 9)\n",
    "g = sns.catplot(\n",
    "    data=data, kind=\"bar\",\n",
    "    x=\"metrics\", y=\"value\", hue=\"\",\n",
    "    palette='pastel'\n",
    ")\n",
    "g.set_axis_labels(\"\", \"value\",fontsize=15)\n",
    "plt.xticks(fontsize=12)\n",
    "plt.yticks(fontsize=12)\n",
    "g.set(xlabel=None)\n",
    "g.despine(left=True)\n",
    "#plt.legend([\"DeepRCI\",\"DeepRCI-simple\"])\n",
    "#g.set(ylim=(0.5,0.95))\n",
    "#g.savefig('result/Bayesian_setting_imbalance.pdf')\n",
    "#g.savefig('result/Bayesian_setting_imbalance.png')"
   ]
  },
  {
   "cell_type": "markdown",
   "metadata": {},
   "source": [
    "# Figure 3c"
   ]
  },
  {
   "cell_type": "code",
   "execution_count": 6,
   "metadata": {},
   "outputs": [],
   "source": [
    "resolution = int(1e6)\n",
    "name2idx = pkl.load(open(f'result/name2idx_{resolution}.bin','rb'))\n",
    "ref_file='gencode.v38.chr_patch_hapl_scaff.annotation.gff3'"
   ]
  },
  {
   "cell_type": "code",
   "execution_count": 7,
   "metadata": {},
   "outputs": [],
   "source": [
    "chr2anno = {}\n",
    "import re\n",
    "with open(ref_file) as fp:\n",
    "    for line in fp:\n",
    "        if line.startswith('#'):\n",
    "            continue\n",
    "        line = line.split()\n",
    "        if line[2]=='transcript':\n",
    "            chrs = line[0]\n",
    "            start = int(line[3])\n",
    "            end = int(line[4])\n",
    "            #mid = (start+end)//2\n",
    "            #pos = int(mid // resolution + 1)\n",
    "            \n",
    "            #name = f'{chrs}_{pos:04d}'\n",
    "            anno = re.findall(r'transcript_type=(\\w*);',line[-1])[0]\n",
    "            #print(anno)\n",
    "            #break\n",
    "            if chrs not in chr2anno:\n",
    "                chr2anno[chrs] = []\n",
    "            chr2anno[chrs].append([start,end,anno])"
   ]
  },
  {
   "cell_type": "code",
   "execution_count": 8,
   "metadata": {},
   "outputs": [],
   "source": [
    "annos = []\n",
    "with open(f'data/GSM4006840_HUVEC_control_iMARGI_inter_1000000_sampled.seqs') as fp:\n",
    "    for line in fp:\n",
    "        line = line.split()\n",
    "        chrs = 'chr'+line[2]\n",
    "        start = int(line[3])\n",
    "        end = int(line[4])\n",
    "        mid = (start + end)//2\n",
    "        anno = None\n",
    "        for value in chr2anno[chrs]:\n",
    "            if mid <=value[1] and mid>=value[0]:\n",
    "                anno = value[2]\n",
    "                break\n",
    "        annos.append(anno)"
   ]
  },
  {
   "cell_type": "code",
   "execution_count": 9,
   "metadata": {},
   "outputs": [],
   "source": [
    "pos_annos = annos"
   ]
  },
  {
   "cell_type": "code",
   "execution_count": 10,
   "metadata": {},
   "outputs": [],
   "source": [
    "neg_annos = []\n",
    "with open(f'data/GSM4006840_HUVEC_control_iMARGI_inter_1000000_neg_sampled.seqs') as fp:\n",
    "    for line in fp:\n",
    "        line = line.split()\n",
    "        chrs = 'chr'+line[2]\n",
    "        start = int(line[3])\n",
    "        end = int(line[4])\n",
    "        mid = (start + end)//2\n",
    "        anno = None\n",
    "        for value in chr2anno[chrs]:\n",
    "            if mid <=value[1] and mid>=value[0]:\n",
    "                anno = value[2]\n",
    "                break\n",
    "        neg_annos.append(anno)"
   ]
  },
  {
   "cell_type": "code",
   "execution_count": 11,
   "metadata": {},
   "outputs": [],
   "source": [
    "def get_result(pos_pred, neg_pred):\n",
    "    lnc_pred,lnc_label = [],[]\n",
    "    mrna_pred, mrna_label = [],[]\n",
    "    other_pre, other_label = [], []\n",
    "\n",
    "    for index, value in enumerate(pos_annos):\n",
    "        if value == 'lncRNA':\n",
    "            lnc_pred.append(pos_pred[index])\n",
    "            lnc_label.append(1)\n",
    "        else:\n",
    "            if value == 'protein_coding':\n",
    "                mrna_pred.append(pos_pred[index])\n",
    "                mrna_label.append(1)\n",
    "            else:\n",
    "                if value==None:\n",
    "                    continue\n",
    "                else:\n",
    "                    other_pre.append(pos_pred[index])\n",
    "                    other_label.append(1)\n",
    "    for index, value in enumerate(neg_annos):\n",
    "        if value == 'lncRNA':\n",
    "            lnc_pred.append(neg_pred[index])\n",
    "            lnc_label.append(0)\n",
    "        else:\n",
    "            if value == 'protein_coding':\n",
    "                mrna_pred.append(neg_pred[index])\n",
    "                mrna_label.append(0)\n",
    "            else:\n",
    "                if value == None:\n",
    "                    continue\n",
    "                else:\n",
    "                    other_pre.append(neg_pred[index])\n",
    "                    other_label.append(0)\n",
    "    auc1 = roc_auc_score(lnc_label, lnc_pred)\n",
    "    auc2 = roc_auc_score(mrna_label, mrna_pred)\n",
    "    auc3 = roc_auc_score(other_label, other_pre)\n",
    "    \n",
    "    \n",
    "    ap1 = average_precision_score(lnc_label, lnc_pred)\n",
    "    ap2 = average_precision_score(mrna_label, mrna_pred)\n",
    "    ap3 = average_precision_score(other_label, other_pre)\n",
    "\n",
    "    return [auc1, auc2, auc3,], [ap1, ap2,ap3]"
   ]
  },
  {
   "cell_type": "code",
   "execution_count": 12,
   "metadata": {},
   "outputs": [],
   "source": [
    "data = {'the type of RNA':[],'AUROC':[],'':[]}"
   ]
  },
  {
   "cell_type": "code",
   "execution_count": 13,
   "metadata": {},
   "outputs": [
    {
     "data": {
      "text/html": [
       "<div>\n",
       "<style scoped>\n",
       "    .dataframe tbody tr th:only-of-type {\n",
       "        vertical-align: middle;\n",
       "    }\n",
       "\n",
       "    .dataframe tbody tr th {\n",
       "        vertical-align: top;\n",
       "    }\n",
       "\n",
       "    .dataframe thead th {\n",
       "        text-align: right;\n",
       "    }\n",
       "</style>\n",
       "<table border=\"1\" class=\"dataframe\">\n",
       "  <thead>\n",
       "    <tr style=\"text-align: right;\">\n",
       "      <th></th>\n",
       "      <th>the type of RNA</th>\n",
       "      <th>AUROC</th>\n",
       "      <th></th>\n",
       "    </tr>\n",
       "  </thead>\n",
       "  <tbody>\n",
       "    <tr>\n",
       "      <th>0</th>\n",
       "      <td>lncRNA</td>\n",
       "      <td>0.944924</td>\n",
       "      <td>DeepRCI</td>\n",
       "    </tr>\n",
       "    <tr>\n",
       "      <th>1</th>\n",
       "      <td>mRNA</td>\n",
       "      <td>0.943497</td>\n",
       "      <td>DeepRCI</td>\n",
       "    </tr>\n",
       "    <tr>\n",
       "      <th>2</th>\n",
       "      <td>other</td>\n",
       "      <td>0.942226</td>\n",
       "      <td>DeepRCI</td>\n",
       "    </tr>\n",
       "    <tr>\n",
       "      <th>3</th>\n",
       "      <td>lncRNA</td>\n",
       "      <td>0.942464</td>\n",
       "      <td>DeepRCI</td>\n",
       "    </tr>\n",
       "    <tr>\n",
       "      <th>4</th>\n",
       "      <td>mRNA</td>\n",
       "      <td>0.942678</td>\n",
       "      <td>DeepRCI</td>\n",
       "    </tr>\n",
       "  </tbody>\n",
       "</table>\n",
       "</div>"
      ],
      "text/plain": [
       "  the type of RNA     AUROC         \n",
       "0          lncRNA  0.944924  DeepRCI\n",
       "1            mRNA  0.943497  DeepRCI\n",
       "2           other  0.942226  DeepRCI\n",
       "3          lncRNA  0.942464  DeepRCI\n",
       "4            mRNA  0.942678  DeepRCI"
      ]
     },
     "execution_count": 13,
     "metadata": {},
     "output_type": "execute_result"
    }
   ],
   "source": [
    "for r in range(10):\n",
    "    pos_pred = pkl.load(open(f'result/sampled_pos_{r}.bin','rb'))\n",
    "    neg_pred = pkl.load(open(f'result/sampled_neg_{r}.bin','rb'))\n",
    "    auc, ap = get_result(pos_pred, neg_pred)\n",
    "    \n",
    "    data['the type of RNA'].extend(['lncRNA','mRNA','other'])\n",
    "    data['AUROC'].extend(ap)\n",
    "    data[''].extend(['DeepRCI',]*3)\n",
    "    \n",
    "for r in range(10):\n",
    "    pos_pred = pkl.load(open(f'result/only_seq_sampled_pos_{r}.bin','rb'))\n",
    "    neg_pred = pkl.load(open(f'result/only_seq_sampled_neg_{r}.bin','rb'))\n",
    "    auc, ap = get_result(pos_pred, neg_pred)\n",
    "    \n",
    "    data['the type of RNA'].extend(['lncRNA','mRNA','other'])\n",
    "    data['AUROC'].extend(ap)\n",
    "    data[''].extend(['DeepRCI-seq',]*3)\n",
    "\n",
    "data = pd.DataFrame(data)\n",
    "data.head()"
   ]
  },
  {
   "cell_type": "code",
   "execution_count": 14,
   "metadata": {
    "scrolled": true
   },
   "outputs": [
    {
     "data": {
      "text/plain": [
       "(array([0.88, 0.89, 0.9 , 0.91, 0.92, 0.93, 0.94, 0.95]),\n",
       " [Text(0, 0, ''),\n",
       "  Text(0, 0, ''),\n",
       "  Text(0, 0, ''),\n",
       "  Text(0, 0, ''),\n",
       "  Text(0, 0, ''),\n",
       "  Text(0, 0, ''),\n",
       "  Text(0, 0, ''),\n",
       "  Text(0, 0, '')])"
      ]
     },
     "execution_count": 14,
     "metadata": {},
     "output_type": "execute_result"
    },
    {
     "data": {
      "image/png": "[encoded data removed]",
      "text/plain": [
       "<Figure size 432x288 with 1 Axes>"
      ]
     },
     "metadata": {
      "needs_background": "light"
     },
     "output_type": "display_data"
    },
    {
     "data": {
      "image/png": "[encoded data removed]",
      "text/plain": [
       "<Figure size 1080x360 with 1 Axes>"
      ]
     },
     "metadata": {
      "needs_background": "light"
     },
     "output_type": "display_data"
    }
   ],
   "source": [
    "f, ax = plt.subplots()\n",
    "plt.figure(figsize=(15,5))\n",
    "g=sns.boxplot(y=\"AUROC\", x=\"the type of RNA\", hue=\"\",\n",
    "              data=data, )\n",
    "g.set(xlabel=None)\n",
    "handles, labels = ax.get_legend_handles_labels()\n",
    "ax.legend(handles, labels, title=None,\n",
    "          handletextpad=0, columnspacing=1,\n",
    "          loc=\"upper right\", ncol=3, frameon=True)\n",
    "ax.grid(False)\n",
    "#ax.xaxis.grid(False)\n",
    "#sns.despine(bottom=True)\n",
    "plt.xticks(fontsize=15)\n",
    "plt.yticks(fontsize=15)"
   ]
  },
  {
   "cell_type": "code",
   "execution_count": null,
   "metadata": {},
   "outputs": [],
   "source": []
  }
 ],
 "metadata": {
  "kernelspec": {
   "display_name": "Python 3",
   "language": "python",
   "name": "python3"
  },
  "language_info": {
   "codemirror_mode": {
    "name": "ipython",
    "version": 3
   },
   "file_extension": ".py",
   "mimetype": "text/x-python",
   "name": "python",
   "nbconvert_exporter": "python",
   "pygments_lexer": "ipython3",
   "version": "3.6.9"
  },
  "toc": {
   "base_numbering": 1,
   "nav_menu": {},
   "number_sections": true,
   "sideBar": true,
   "skip_h1_title": false,
   "title_cell": "Table of Contents",
   "title_sidebar": "Contents",
   "toc_cell": false,
   "toc_position": {},
   "toc_section_display": true,
   "toc_window_display": false
  }
 },
 "nbformat": 4,
 "nbformat_minor": 2
}
