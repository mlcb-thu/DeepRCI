{
 "cells": [
  {
   "cell_type": "code",
   "execution_count": 1,
   "metadata": {},
   "outputs": [],
   "source": [
    "import os\n",
    "import numpy as np\n",
    "import pandas as pd\n",
    "import random\n",
    "from tqdm import tqdm\n",
    "from Bio import SeqIO\n",
    "import pickle as pkl\n",
    "from Bio import SeqIO\n",
    "from Bio.Seq import Seq"
   ]
  },
  {
   "cell_type": "markdown",
   "metadata": {},
   "source": [
    "# HiC data and ATAC-seq data"
   ]
  },
  {
   "cell_type": "code",
   "execution_count": 2,
   "metadata": {},
   "outputs": [],
   "source": [
    "resolution = int(1e6)\n",
    "imgaic_np = pkl.load(open(f'data/imagic_array_{resolution}.bin','rb'))\n",
    "atac_np = pkl.load(open(f'data/atacseq_list_{resolution}.bin','rb'))\n",
    "hic_np = pkl.load(open(f'data/hic_array_{resolution}.bin','rb'))\n",
    "\n",
    "name2idx = pkl.load(open(f'name2idx_{resolution}.bin','rb'))"
   ]
  },
  {
   "cell_type": "markdown",
   "metadata": {},
   "source": [
    "# Extract sequence information"
   ]
  },
  {
   "cell_type": "code",
   "execution_count": 3,
   "metadata": {},
   "outputs": [],
   "source": [
    "refdir=\"ref/\"\n",
    "reffile = 'GRCh38_no_alt_analysis_set_GCA_000001405.15.fasta'"
   ]
  },
  {
   "cell_type": "code",
   "execution_count": 4,
   "metadata": {},
   "outputs": [],
   "source": [
    "\n",
    "chrom2seq = {}\n",
    "for record in SeqIO.parse(refdir+reffile,'fasta'):\n",
    "    try:\n",
    "        chrom = str(record.id)\n",
    "        seq = str(record.seq)\n",
    "        chrom2seq[chrom] = seq\n",
    "    except Exception as e:\n",
    "        print(e)\n",
    "        continue"
   ]
  },
  {
   "cell_type": "markdown",
   "metadata": {},
   "source": [
    "# Extract all sequences"
   ]
  },
  {
   "cell_type": "code",
   "execution_count": 5,
   "metadata": {},
   "outputs": [],
   "source": [
    "datadir='data/iMAGIC/data/'\n",
    "filename = 'GSM4006840_HUVEC_control_iMARGI_inter_sampled.bedpe'"
   ]
  },
  {
   "cell_type": "code",
   "execution_count": 6,
   "metadata": {
    "scrolled": true
   },
   "outputs": [],
   "source": [
    "seq = chrom2seq['chr4']\n",
    "def comp(s,strand):\n",
    "    if strand==\"-\":\n",
    "        return str(Seq(s).complement())\n",
    "    else:\n",
    "        return s"
   ]
  },
  {
   "cell_type": "code",
   "execution_count": 7,
   "metadata": {},
   "outputs": [],
   "source": [
    "def lcs(s1, s2):\n",
    "    result = 0\n",
    "    c = np.zeros((len(s1) + 1, len(s2) + 1))\n",
    "    sim_c = np.zeros((len(s1) + 1, len(s2) + 1))\n",
    "    for i in range(1, len(s1) + 1):\n",
    "        for j in range(1, len(s2) + 1):\n",
    "            if (s1[i - 1] == s2[j - 1]):\n",
    "                c[i][j] = c[i - 1][j - 1] + 1\n",
    "                #sim_c[i][j] = sim_c[i - 1][j - 1] + 1\n",
    "                result = max(result, c[i][j])\n",
    "            else:\n",
    "                #sim_c[i][j] = max(sim_c[i][j - 1], sim_c[i - 1][j])\n",
    "                c[i][j] = 0\n",
    "    return result#, sim_c[len(s1)][len(s2)]"
   ]
  },
  {
   "cell_type": "code",
   "execution_count": 9,
   "metadata": {
    "scrolled": true
   },
   "outputs": [],
   "source": [
    "outputdir='iMAGIC/data/'\n",
    "\n",
    "input_length=50\n",
    "def comp(s):\n",
    "    return str(Seq(s).complement())\n",
    "with open(outputdir+f'GSM4006840_HUVEC_control_iMARGI_inter_{resolution}_sampled.seqs','w') as fp:\n",
    "    for line in open(datadir+filename):\n",
    "        try:\n",
    "            lines = line.split()\n",
    "            chr1 = lines[0]\n",
    "            start1 = int(lines[1])\n",
    "            end1 = int(lines[2])\n",
    "            mid1 = (start1 + end1)//2\n",
    "            chr2 = lines[3]\n",
    "            start2 = int(lines[4])\n",
    "            end2 = int(lines[5])\n",
    "            mid2 = (start2 + end2)//2\n",
    "            s = lines[-1]\n",
    "            t = lines[-2]\n",
    "            seq1 = chrom2seq[chr1][mid1-50:mid1+51]\n",
    "            seq2 =chrom2seq[chr2][mid2-50:mid2+51]\n",
    "\n",
    "\n",
    "            chr1 = int(chr1[3:])\n",
    "            chr2 = int(chr2[3:])\n",
    "            pos1 = int(mid1 // resolution + 1)\n",
    "            pos2 = int(mid2 // resolution + 1)\n",
    "            name1 = f'chr{chr1:02d}_{pos1:04d}'\n",
    "            name2 = f'chr{chr2:02d}_{pos2:04d}'\n",
    "\n",
    "            idx1 = name2idx[name1]\n",
    "            idx2 = name2idx[name2]\n",
    "\n",
    "            imagi_count = imgaic_np[idx1][idx2]\n",
    "            hic_count = hic_np[idx1][idx2]\n",
    "\n",
    "            atac1 = atac_np[idx1][0]\n",
    "            atac2 = atac_np[idx2][0]\n",
    "            fp.write(f'{seq1}\\t{seq2}\\t{chr1}\\t{start1}\\t{end1}\\t{idx1}\\t{chr2}\\t{start2}\\t{end2}\\t{idx2}\\t{imagi_count}\\t{hic_count}\\t{atac1}\\t{atac2}\\n')\n",
    "        except Exception as e:\n",
    "            pass"
   ]
  },
  {
   "cell_type": "markdown",
   "metadata": {},
   "source": [
    "# Generate training data"
   ]
  },
  {
   "cell_type": "code",
   "execution_count": 14,
   "metadata": {
    "scrolled": true
   },
   "outputs": [],
   "source": [
    "import random\n",
    "import numpy as np\n",
    "np.random.seed(65535)\n",
    "outputdir='data/iMAGIC/data/'\n",
    "inputdata = f'{outputdir}/GSM4006840_HUVEC_control_iMARGI_inter_{resolution}.seqs'\n",
    "\n",
    "rnas,dnas = [],[]\n",
    "pospairs = []\n",
    "for line in open(inputdata):\n",
    "    lines = line.strip().split()\n",
    "    try:\n",
    "        rna = lines[0]\n",
    "        dna = lines[1]\n",
    "        rnas.append(rna)\n",
    "        dnas.append(dna)\n",
    "        pospairs.append((rna,dna))\n",
    "    except:\n",
    "        continue"
   ]
  },
  {
   "cell_type": "code",
   "execution_count": 10,
   "metadata": {},
   "outputs": [],
   "source": [
    "# New mode\n",
    "import random\n",
    "import numpy as np\n",
    "np.random.seed(65535)\n",
    "resolution = int(1e6)\n",
    "outputdir='data/iMAGIC/data/'\n",
    "# Only sample a subset from all positive samples\n",
    "inputdata = f'{outputdir}/GSM4006840_HUVEC_control_iMARGI_inter_{resolution}_sampled.seqs'\n",
    "\n",
    "with open(f'{outputdir}/GSM4006840_HUVEC_control_iMARGI_inter_{resolution}_neg_sampled.seqs','w') as fp:\n",
    "    for line in open(inputdata):\n",
    "\n",
    "        lines = line.strip().split()\n",
    "        seq1 = lines[0]\n",
    "        chr1 = lines[2]\n",
    "        start1 = int(lines[3])\n",
    "        end1 = int(lines[4])\n",
    "        idx1 = int(lines[5])\n",
    "        imagi_count = 100\n",
    "        while imagi_count > 0:\n",
    "            chrom2 = np.random.randint(22) + 1\n",
    "            chr2 = chrom2\n",
    "            \n",
    "            seq2 = chrom2seq[f'chr{chrom2}']\n",
    "    \n",
    "            pos2 = np.random.randint(len(seq2)-10000) + 10000\n",
    "            s2 = seq2[pos2:pos2+101]\n",
    "            if 'NNNNNNN' in s2:\n",
    "                continue\n",
    "            pos2 = int((pos2 + 51)//resolution + 1)\n",
    "            start2 = pos2-100\n",
    "            end2 = pos2+100\n",
    "            name2 = f'chr{chrom2:02d}_{pos2:04d}'\n",
    "            idx2 = name2idx[name2]\n",
    "\n",
    "            imagi_count = imgaic_np[idx1][idx2]\n",
    "            hic_count = hic_np[idx1][idx2]\n",
    "\n",
    "            atac1 = atac_np[idx1][0]\n",
    "            atac2 = atac_np[idx2][0]\n",
    "        fp.write(f'{seq1}\\t{s2}\\t{chr1}\\t{start1}\\t{end1}\\t{chr2}\\t{start2}\\t{end2}\\t{imagi_count}\\t{hic_count}\\t{atac1}\\t{atac2}\\n')\n",
    "        #fp.write(f'{seq1}\\t{s2}\\t{chr1}\\t{chr2}\\t{idx1}\\t{idx2}\\t{imagi_count}\\t{hic_count}\\t{atac1}\\t{atac2}\\n')"
   ]
  }
 ],
 "metadata": {
  "kernelspec": {
   "display_name": "Python 3",
   "language": "python",
   "name": "python3"
  },
  "language_info": {
   "codemirror_mode": {
    "name": "ipython",
    "version": 3
   },
   "file_extension": ".py",
   "mimetype": "text/x-python",
   "name": "python",
   "nbconvert_exporter": "python",
   "pygments_lexer": "ipython3",
   "version": "3.6.9"
  },
  "toc": {
   "base_numbering": 1,
   "nav_menu": {},
   "number_sections": true,
   "sideBar": true,
   "skip_h1_title": false,
   "title_cell": "Table of Contents",
   "title_sidebar": "Contents",
   "toc_cell": false,
   "toc_position": {},
   "toc_section_display": true,
   "toc_window_display": false
  }
 },
 "nbformat": 4,
 "nbformat_minor": 2
}
